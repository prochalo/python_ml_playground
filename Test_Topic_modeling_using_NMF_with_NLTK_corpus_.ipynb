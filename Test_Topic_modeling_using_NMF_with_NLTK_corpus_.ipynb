{
  "nbformat": 4,
  "nbformat_minor": 0,
  "metadata": {
    "colab": {
      "name": "Test Topic modeling using NMF with NLTK corpus .ipynb",
      "provenance": [],
      "authorship_tag": "ABX9TyO6BO7C/QFGq5FeJkbdmF1Y",
      "include_colab_link": true
    },
    "kernelspec": {
      "name": "python3",
      "display_name": "Python 3"
    }
  },
  "cells": [
    {
      "cell_type": "markdown",
      "metadata": {
        "id": "view-in-github",
        "colab_type": "text"
      },
      "source": [
        "<a href=\"https://colab.research.google.com/github/provincit/python_ml_playground/blob/master/Test_Topic_modeling_using_NMF_with_NLTK_corpus_.ipynb\" target=\"_parent\"><img src=\"https://colab.research.google.com/assets/colab-badge.svg\" alt=\"Open In Colab\"/></a>"
      ]
    },
    {
      "cell_type": "code",
      "metadata": {
        "id": "sKbzzNFBAaB6",
        "colab_type": "code",
        "colab": {
          "base_uri": "https://localhost:8080/",
          "height": 85
        },
        "outputId": "047a1036-fa64-4d2b-d71d-ee6845ffc4b1"
      },
      "source": [
        "import nltk\n",
        "nltk.download('wordnet')\n",
        "nltk.download('names')\n",
        "from sklearn.feature_extraction.text import CountVectorizer\n",
        "from sklearn.datasets import fetch_20newsgroups\n",
        "from nltk.corpus import names\n",
        "from nltk.stem import WordNetLemmatizer\n",
        "from sklearn.decomposition import NMF\n",
        "\n",
        "def letters_only(astr):\n",
        "  return astr.isalpha()\n",
        "\n",
        "\n",
        "\n"
      ],
      "execution_count": 1,
      "outputs": [
        {
          "output_type": "stream",
          "text": [
            "[nltk_data] Downloading package wordnet to /root/nltk_data...\n",
            "[nltk_data]   Package wordnet is already up-to-date!\n",
            "[nltk_data] Downloading package names to /root/nltk_data...\n",
            "[nltk_data]   Package names is already up-to-date!\n"
          ],
          "name": "stdout"
        }
      ]
    },
    {
      "cell_type": "code",
      "metadata": {
        "id": "iDnrQDuaECYx",
        "colab_type": "code",
        "colab": {}
      },
      "source": [
        "cv = CountVectorizer(stop_words = \"english\", max_features=500)\n",
        "groups = fetch_20newsgroups()\n",
        "cleaned = []\n",
        "all_names = set(names.words())\n",
        "lemmatizer = WordNetLemmatizer()"
      ],
      "execution_count": 2,
      "outputs": []
    },
    {
      "cell_type": "code",
      "metadata": {
        "id": "_O7a1K-pEF1T",
        "colab_type": "code",
        "colab": {}
      },
      "source": [
        "for post in groups.data:\n",
        "  cleaned.append(' '.join([\n",
        "    lemmatizer.lemmatize(word.lower())\n",
        "    for word in post.split()\n",
        "    if letters_only(word)\n",
        "    and word not in all_names]))"
      ],
      "execution_count": 3,
      "outputs": []
    },
    {
      "cell_type": "code",
      "metadata": {
        "id": "ppIRN2LCEWDS",
        "colab_type": "code",
        "colab": {
          "base_uri": "https://localhost:8080/",
          "height": 1000
        },
        "outputId": "2e812ade-b0f7-479c-a133-4e4331059b3e"
      },
      "source": [
        "transformed = cv.fit_transform(cleaned)\n",
        "nmf = NMF(n_components=100, random_state=45).fit(transformed)\n",
        "for topic_idx, topic in enumerate(nmf.components_):\n",
        "  label = '{}: '.format(topic_idx)\n",
        "  print(label, \" \".join([cv.get_feature_names()[i]\n",
        "                        for i in topic.argsort()[:-9:-1]\n",
        "  ]))"
      ],
      "execution_count": 4,
      "outputs": [
        {
          "output_type": "stream",
          "text": [
            "0:  wa went came started told said took saw\n",
            "1:  db bit data stuff place add time line\n",
            "2:  image color version free available display better current\n",
            "3:  file information section change source write check ftp\n",
            "4:  disk drive controller hard support card board head\n",
            "5:  entry program rule source number info email build\n",
            "6:  list post group email discussion news sent mail\n",
            "7:  image user software package include using support color\n",
            "8:  window using application server manager function create screen\n",
            "9:  state united national house public political control federal\n",
            "10:  hockey league game team division player san final\n",
            "11:  world muslim life news earth religious religion following\n",
            "12:  ha able taken called given past exactly real\n",
            "13:  space nasa technology service national international small communication\n",
            "14:  key message security public bit algorithm standard attack\n",
            "15:  output line open write read return build section\n",
            "16:  people tell killed saying live care doing place\n",
            "17:  widget application value set type return function display\n",
            "18:  health medical public national care study service user\n",
            "19:  turkish government sent war study came took american\n",
            "20:  armenian russian muslim turkish city road single today\n",
            "21:  president going said group working tax press package\n",
            "22:  ground box usually power code current house white\n",
            "23:  russian president american support food money important way\n",
            "24:  ibm color week memory hardware standard monitor software\n",
            "25:  anonymous posting service server user group message post\n",
            "26:  la win san went year near radio shot\n",
            "27:  job young school lot going private business create\n",
            "28:  encryption technology access device policy security government algorithm\n",
            "29:  scsi tape driver drive hard memory following bus\n",
            "30:  war military attack way russian united force american\n",
            "31:  god bible shall man life hell love end\n",
            "32:  atheist religious religion belief god sort feel believe\n",
            "33:  graphic send mail message server package various computer\n",
            "34:  center research medical institute national north test basic\n",
            "35:  think lot really try trying agree talk quite\n",
            "36:  water city division public north similar today high\n",
            "37:  section military shall weapon person division application mean\n",
            "38:  good cover better player really great probably pretty\n",
            "39:  drive head single mode scsi set model using\n",
            "40:  israeli arab attack policy true fact apr state\n",
            "41:  use using note similar user usually standard case\n",
            "42:  know tell way sure let understand talking saw\n",
            "43:  car speed driver better change high buy different\n",
            "44:  internet anonymous email address information user network mail\n",
            "45:  like look really sound better going long little\n",
            "46:  program change display technology application using try error\n",
            "47:  child case le area report group research technology\n",
            "48:  dod bike computer member started mean live rule\n",
            "49:  greek killed act word western muslim turkish talk\n",
            "50:  computer information internet public service communication network issue\n",
            "51:  law act federal issue specific order moral clear\n",
            "52:  book read reference copy second speed history original\n",
            "53:  argument form true evidence event truth particular known\n",
            "54:  government political free federal sure private local country\n",
            "55:  doe mean anybody actually different ask difference reading\n",
            "56:  time long better lot order having able different\n",
            "57:  rate city crime difference study le gun white\n",
            "58:  right second free shall security mean american left\n",
            "59:  san police said information group league political office\n",
            "60:  power period second san special play goal le\n",
            "61:  used using product way function version note single\n",
            "62:  problem having using apple error running try help\n",
            "63:  available version server widget includes support source sun\n",
            "64:  question answer ask asked reason claim true read\n",
            "65:  make sure sense difference little better try way\n",
            "66:  number serial following large le million report men\n",
            "67:  year old ago best hit better long sale\n",
            "68:  want help let really better life reason copy\n",
            "69:  point way different line better best far algorithm\n",
            "70:  run running home start really version hit win\n",
            "71:  thing sure really saw trying having asked kind\n",
            "72:  wa thought later order seen left took sent\n",
            "73:  offer information manager open course look faq reference\n",
            "74:  human life person moral kill claim reason death\n",
            "75:  card driver video support mode mouse memory board\n",
            "76:  come tell trying turn coming going start away\n",
            "77:  did death let money wanted fact man place\n",
            "78:  game shot play goal lead sound left win\n",
            "79:  believe belief christian truth claim evidence mean reason\n",
            "80:  chip clipper serial algorithm phone communication encryption second\n",
            "81:  need help tape hardware phone needed kind memory\n",
            "82:  drug information study war group usa reason help\n",
            "83:  just maybe start really big thought probably little\n",
            "84:  work help working using different sound great able\n",
            "85:  say mean word act clear read moral agree\n",
            "86:  jew jewish war history help arab research country\n",
            "87:  ftp available anonymous general nasa information package version\n",
            "88:  science computer model study evidence method institute kind\n",
            "89:  got going went hit tried little play away\n",
            "90:  church christian member group true bible command view\n",
            "91:  new york sale change service early study result\n",
            "92:  team player win better play best bad great\n",
            "93:  unit disk size serial total national bit return\n",
            "94:  day word said christian little tell really way\n",
            "95:  university general thanks department engineering texas computing usa\n",
            "96:  woman men way muslim religion man great try\n",
            "97:  gun control house united crime american weapon second\n",
            "98:  data available information research based model set user\n",
            "99:  article read usa opinion post sure discussion gmt\n"
          ],
          "name": "stdout"
        }
      ]
    },
    {
      "cell_type": "code",
      "metadata": {
        "id": "hv8QZMhpEWGL",
        "colab_type": "code",
        "colab": {}
      },
      "source": [
        ""
      ],
      "execution_count": 4,
      "outputs": []
    }
  ]
}