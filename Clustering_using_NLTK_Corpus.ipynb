{
  "nbformat": 4,
  "nbformat_minor": 0,
  "metadata": {
    "colab": {
      "name": "Clustering using NLTK Corpus.ipynb",
      "provenance": [],
      "authorship_tag": "ABX9TyNWtupW9jceWkmYfMuzWFu4",
      "include_colab_link": true
    },
    "kernelspec": {
      "name": "python3",
      "display_name": "Python 3"
    }
  },
  "cells": [
    {
      "cell_type": "markdown",
      "metadata": {
        "id": "view-in-github",
        "colab_type": "text"
      },
      "source": [
        "<a href=\"https://colab.research.google.com/github/provincit/python_ml_playground/blob/master/Clustering_using_NLTK_Corpus.ipynb\" target=\"_parent\"><img src=\"https://colab.research.google.com/assets/colab-badge.svg\" alt=\"Open In Colab\"/></a>"
      ]
    },
    {
      "cell_type": "code",
      "metadata": {
        "id": "vThfR-oVZ77k",
        "colab_type": "code",
        "colab": {
          "base_uri": "https://localhost:8080/",
          "height": 85
        },
        "outputId": "9bb6b57a-1272-4373-c6a8-a8b35316f377"
      },
      "source": [
        "import nltk\n",
        "nltk.download('names')\n",
        "nltk.download('wordnet')\n",
        "from sklearn.feature_extraction.text import CountVectorizer\n",
        "from sklearn.datasets import fetch_20newsgroups\n",
        "from nltk.corpus import names\n",
        "from nltk.stem import WordNetLemmatizer\n",
        "from sklearn.cluster import KMeans\n",
        "import matplotlib.pyplot as plt\n",
        "\n",
        "def letters_only(astr):\n",
        "  return astr.isalpha()\n",
        "\n",
        "\n",
        "\n"
      ],
      "execution_count": 1,
      "outputs": [
        {
          "output_type": "stream",
          "text": [
            "[nltk_data] Downloading package names to /root/nltk_data...\n",
            "[nltk_data]   Package names is already up-to-date!\n",
            "[nltk_data] Downloading package wordnet to /root/nltk_data...\n",
            "[nltk_data]   Package wordnet is already up-to-date!\n"
          ],
          "name": "stdout"
        }
      ]
    },
    {
      "cell_type": "code",
      "metadata": {
        "id": "BDMX3V9acFSF",
        "colab_type": "code",
        "colab": {}
      },
      "source": [
        "\n",
        "cv = CountVectorizer(stop_words = \"english\", max_features=500)\n",
        "groups = fetch_20newsgroups()\n",
        "cleaned = []\n",
        "all_names = set(names.words())\n",
        "lemmatizer = WordNetLemmatizer()"
      ],
      "execution_count": 2,
      "outputs": []
    },
    {
      "cell_type": "code",
      "metadata": {
        "id": "Cx8PfrAUe3GI",
        "colab_type": "code",
        "colab": {
          "base_uri": "https://localhost:8080/",
          "height": 279
        },
        "outputId": "a6f2a6ff-54bf-47f5-f112-633e80ca3e1b"
      },
      "source": [
        "for post in groups.data:\n",
        "  cleaned.append(' '.join([\n",
        "    lemmatizer.lemmatize(word.lower())\n",
        "    for word in post.split()\n",
        "    if letters_only(word)\n",
        "    and word not in all_names]))\n",
        "\n",
        "transformed = cv.fit_transform(cleaned)\n",
        "km = KMeans(n_clusters=20)\n",
        "km.fit(transformed)\n",
        "labels = groups.target\n",
        "plt.scatter(labels, km.labels_)\n",
        "plt.xlabel('Newsgroup')\n",
        "plt.ylabel('Cluster')\n",
        "plt.show()\n"
      ],
      "execution_count": 3,
      "outputs": [
        {
          "output_type": "display_data",
          "data": {
            "image/png": "[encoded data removed]",
            "text/plain": [
              "<Figure size 432x288 with 1 Axes>"
            ]
          },
          "metadata": {
            "tags": [],
            "needs_background": "light"
          }
        }
      ]
    },
    {
      "cell_type": "code",
      "metadata": {
        "id": "s3YOhdQKj3Ip",
        "colab_type": "code",
        "colab": {}
      },
      "source": [
        ""
      ],
      "execution_count": 3,
      "outputs": []
    }
  ]
}